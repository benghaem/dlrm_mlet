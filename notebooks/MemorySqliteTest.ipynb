{
 "cells": [
  {
   "cell_type": "code",
   "execution_count": 2,
   "metadata": {
    "ExecuteTime": {
     "end_time": "2019-10-10T23:41:47.225805Z",
     "start_time": "2019-10-10T23:41:47.223264Z"
    }
   },
   "outputs": [],
   "source": [
    "import sqlite3 as sq3"
   ]
  },
  {
   "cell_type": "code",
   "execution_count": 3,
   "metadata": {
    "ExecuteTime": {
     "end_time": "2019-10-10T23:41:48.480012Z",
     "start_time": "2019-10-10T23:41:48.477979Z"
    }
   },
   "outputs": [],
   "source": [
    "on_disk_conn = sq3.connect(\"/home/usr1/bghaem/mu/proj/dlrm/support/data/avazu.db\")"
   ]
  },
  {
   "cell_type": "code",
   "execution_count": 4,
   "metadata": {
    "ExecuteTime": {
     "end_time": "2019-10-10T23:41:52.718259Z",
     "start_time": "2019-10-10T23:41:49.421811Z"
    }
   },
   "outputs": [],
   "source": [
    "mem_db = sq3.connect(\":memory:\")\n",
    "\n",
    "on_disk_conn.backup(mem_db)\n",
    "on_disk_conn.close()"
   ]
  },
  {
   "cell_type": "code",
   "execution_count": 5,
   "metadata": {
    "ExecuteTime": {
     "end_time": "2019-10-10T23:41:54.999694Z",
     "start_time": "2019-10-10T23:41:54.997870Z"
    }
   },
   "outputs": [],
   "source": [
    "c = mem_db.cursor()"
   ]
  },
  {
   "cell_type": "code",
   "execution_count": 16,
   "metadata": {
    "ExecuteTime": {
     "end_time": "2019-10-10T23:46:10.873079Z",
     "start_time": "2019-10-10T23:46:10.470417Z"
    }
   },
   "outputs": [],
   "source": [
    "mem_db.close()"
   ]
  },
  {
   "cell_type": "code",
   "execution_count": 15,
   "metadata": {
    "ExecuteTime": {
     "end_time": "2019-10-10T23:43:41.847882Z",
     "start_time": "2019-10-10T23:43:41.845807Z"
    }
   },
   "outputs": [],
   "source": [
    "q = mem_db.cursor().execute(f\"SELECT * FROM data_cleaned WHERE rowid = 0\").fetchone()\n",
    "q"
   ]
  },
  {
   "cell_type": "code",
   "execution_count": 36,
   "metadata": {
    "ExecuteTime": {
     "end_time": "2019-10-10T21:34:34.891128Z",
     "start_time": "2019-10-10T21:34:34.888208Z"
    }
   },
   "outputs": [
    {
     "data": {
      "text/plain": [
       "(5112280694752188354,\n",
       " 1,\n",
       " 1.791759469228055,\n",
       " 1,\n",
       " 1,\n",
       " 1,\n",
       " 1,\n",
       " 1,\n",
       " 1,\n",
       " 1,\n",
       " 1,\n",
       " 1,\n",
       " 1378228,\n",
       " 27,\n",
       " 1,\n",
       " 1,\n",
       " 33,\n",
       " 1,\n",
       " 1,\n",
       " 1,\n",
       " 1,\n",
       " 1,\n",
       " 8,\n",
       " 1)"
      ]
     },
     "execution_count": 36,
     "metadata": {},
     "output_type": "execute_result"
    }
   ],
   "source": [
    "c.execute(\"SELECT * FROM data_cleaned WHERE rowid = 5757712\").fetchone()"
   ]
  },
  {
   "cell_type": "code",
   "execution_count": null,
   "metadata": {},
   "outputs": [],
   "source": []
  }
 ],
 "metadata": {
  "kernelspec": {
   "display_name": "Python 3",
   "language": "python",
   "name": "python3"
  },
  "language_info": {
   "codemirror_mode": {
    "name": "ipython",
    "version": 3
   },
   "file_extension": ".py",
   "mimetype": "text/x-python",
   "name": "python",
   "nbconvert_exporter": "python",
   "pygments_lexer": "ipython3",
   "version": "3.7.4"
  }
 },
 "nbformat": 4,
 "nbformat_minor": 2
}
