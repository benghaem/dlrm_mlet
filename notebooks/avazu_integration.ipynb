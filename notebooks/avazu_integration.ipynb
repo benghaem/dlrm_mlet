{
 "cells": [
  {
   "cell_type": "code",
   "execution_count": 2,
   "metadata": {
    "ExecuteTime": {
     "end_time": "2019-10-14T17:03:12.052396Z",
     "start_time": "2019-10-14T17:03:10.619597Z"
    }
   },
   "outputs": [],
   "source": [
    "import pandas as pd\n",
    "import sqlite3 as sq3\n",
    "import datetime\n",
    "import math"
   ]
  },
  {
   "cell_type": "code",
   "execution_count": 3,
   "metadata": {
    "ExecuteTime": {
     "end_time": "2019-10-14T17:03:12.059633Z",
     "start_time": "2019-10-14T17:03:12.053736Z"
    }
   },
   "outputs": [],
   "source": [
    "conn = sq3.connect('/home/usr1/bghaem/mu/proj/dlrm/support/data/avazu.db')\n",
    "c = conn.cursor()\n",
    "try:\n",
    "    c.execute('''\n",
    "                CREATE TABLE IF NOT EXISTS data\n",
    "                (id integer,\n",
    "                click integer,\n",
    "                hour integer,\n",
    "                C1 integer,\n",
    "                banner_pos integer,\n",
    "                site_id integer,\n",
    "                site_domain integer,\n",
    "                site_category integer,\n",
    "                app_id integer,\n",
    "                app_domain integer,\n",
    "                app_category integer,\n",
    "                device_id integer,\n",
    "                device_ip integer,\n",
    "                device_model integer,\n",
    "                device_type integer,\n",
    "                device_conn_type integer,\n",
    "                C14 integer,\n",
    "                C15 integer,\n",
    "                C16 integer,\n",
    "                C17 integer,\n",
    "                C18 integer,\n",
    "                C19 integer,\n",
    "                C20 integer,\n",
    "                C21 integer)\n",
    "        ''')\n",
    "    c.execute('''\n",
    "                CREATE TABLE IF NOT EXISTS data_cleaned\n",
    "                (id integer,\n",
    "                click integer,\n",
    "                hour integer,\n",
    "                C1 integer,\n",
    "                banner_pos integer,\n",
    "                site_id integer,\n",
    "                site_domain integer,\n",
    "                site_category integer,\n",
    "                app_id integer,\n",
    "                app_domain integer,\n",
    "                app_category integer,\n",
    "                device_id integer,\n",
    "                device_ip integer,\n",
    "                device_model integer,\n",
    "                device_type integer,\n",
    "                device_conn_type integer,\n",
    "                C14 integer,\n",
    "                C15 integer,\n",
    "                C16 integer,\n",
    "                C17 integer,\n",
    "                C18 integer,\n",
    "                C19 integer,\n",
    "                C20 integer,\n",
    "                C21 integer)\n",
    "        ''')\n",
    "    c.execute('''\n",
    "                CREATE TABLE IF NOT EXISTS col_counts\n",
    "                (cat text,\n",
    "                count integer)\n",
    "            ''')\n",
    "    conn.commit()\n",
    "except sq3.OperationalError as e:\n",
    "    print(\"Create failed\", e)"
   ]
  },
  {
   "cell_type": "code",
   "execution_count": 97,
   "metadata": {
    "ExecuteTime": {
     "end_time": "2019-10-14T02:11:49.683501Z",
     "start_time": "2019-10-14T02:04:29.533229Z"
    },
    "scrolled": true
   },
   "outputs": [
    {
     "name": "stdout",
     "output_type": "stream",
     "text": [
      "resetting data table...\n",
      "['id integer', 'click integer', 'hour integer', 'C1 integer', 'banner_pos integer', 'site_id integer', 'site_domain integer', 'site_category integer', 'app_id integer', 'app_domain integer', 'app_category integer', 'device_id integer', 'device_ip integer', 'device_model integer', 'device_type integer', 'device_conn_type integer', 'C14 integer', 'C15 integer', 'C16 integer', 'C17 integer', 'C18 integer', 'C19 integer', 'C20 integer', 'C21\\n integer']\n",
      "1000009418151094273,0,14102100,1005,0,1fbe01fe,f3845767,28905ebd,ecad2386,7801e8d9,07d7df22,a99f214a,ddd2926e,44956a24,1,2,15706,320,50,1722,0,35,-1,79\n",
      "\n",
      "loaded 100000\n",
      "loaded 200000\n",
      "loaded 300000\n",
      "loaded 400000\n",
      "loaded 500000\n",
      "loaded 600000\n",
      "loaded 700000\n",
      "loaded 800000\n",
      "loaded 900000\n",
      "loaded 1000000\n",
      "loaded 1100000\n",
      "loaded 1200000\n",
      "loaded 1300000\n",
      "loaded 1400000\n",
      "loaded 1500000\n",
      "loaded 1600000\n",
      "loaded 1700000\n",
      "loaded 1800000\n",
      "loaded 1900000\n",
      "loaded 2000000\n",
      "loaded 2100000\n",
      "loaded 2200000\n",
      "loaded 2300000\n",
      "loaded 2400000\n",
      "loaded 2500000\n",
      "loaded 2600000\n",
      "loaded 2700000\n",
      "loaded 2800000\n",
      "loaded 2900000\n",
      "loaded 3000000\n",
      "loaded 3100000\n",
      "loaded 3200000\n",
      "loaded 3300000\n",
      "loaded 3400000\n",
      "loaded 3500000\n",
      "loaded 3600000\n",
      "loaded 3700000\n",
      "loaded 3800000\n",
      "loaded 3900000\n",
      "loaded 4000000\n",
      "loaded 4100000\n",
      "loaded 4200000\n",
      "loaded 4300000\n",
      "loaded 4400000\n",
      "loaded 4500000\n",
      "loaded 4600000\n",
      "loaded 4700000\n",
      "loaded 4800000\n",
      "loaded 4900000\n",
      "loaded 5000000\n",
      "loaded 5100000\n",
      "loaded 5200000\n",
      "loaded 5300000\n",
      "loaded 5400000\n",
      "loaded 5500000\n",
      "loaded 5600000\n",
      "loaded 5700000\n",
      "loaded 5800000\n",
      "loaded 5900000\n",
      "loaded 6000000\n",
      "loaded 6100000\n",
      "loaded 6200000\n",
      "loaded 6300000\n",
      "loaded 6400000\n",
      "loaded 6500000\n",
      "loaded 6600000\n",
      "loaded 6700000\n",
      "loaded 6800000\n",
      "loaded 6900000\n",
      "loaded 7000000\n",
      "loaded 7100000\n",
      "loaded 7200000\n",
      "loaded 7300000\n",
      "loaded 7400000\n",
      "loaded 7500000\n",
      "loaded 7600000\n",
      "loaded 7700000\n",
      "loaded 7800000\n",
      "loaded 7900000\n",
      "loaded 8000000\n",
      "loaded 8100000\n",
      "loaded 8200000\n",
      "loaded 8300000\n",
      "loaded 8400000\n",
      "loaded 8500000\n",
      "loaded 8600000\n",
      "loaded 8700000\n",
      "loaded 8800000\n",
      "loaded 8900000\n",
      "loaded 9000000\n",
      "loaded 9100000\n",
      "loaded 9200000\n",
      "loaded 9300000\n",
      "loaded 9400000\n",
      "loaded 9500000\n",
      "loaded 9600000\n",
      "loaded 9700000\n",
      "loaded 9800000\n",
      "loaded 9900000\n",
      "loaded 10000000\n",
      "loaded 10100000\n",
      "loaded 10200000\n",
      "loaded 10300000\n",
      "loaded 10400000\n",
      "loaded 10500000\n",
      "loaded 10600000\n",
      "loaded 10700000\n",
      "loaded 10800000\n",
      "loaded 10900000\n",
      "loaded 11000000\n",
      "loaded 11100000\n",
      "loaded 11200000\n",
      "loaded 11300000\n",
      "loaded 11400000\n",
      "loaded 11500000\n",
      "loaded 11600000\n",
      "loaded 11700000\n",
      "loaded 11800000\n",
      "loaded 11900000\n",
      "loaded 12000000\n",
      "loaded 12100000\n",
      "loaded 12200000\n",
      "loaded 12300000\n",
      "loaded 12400000\n",
      "loaded 12500000\n",
      "loaded 12600000\n",
      "loaded 12700000\n",
      "loaded 12800000\n",
      "loaded 12900000\n",
      "loaded 13000000\n",
      "loaded 13100000\n",
      "loaded 13200000\n",
      "loaded 13300000\n",
      "loaded 13400000\n",
      "loaded 13500000\n",
      "loaded 13600000\n",
      "loaded 13700000\n",
      "loaded 13800000\n",
      "loaded 13900000\n",
      "loaded 14000000\n",
      "loaded 14100000\n",
      "loaded 14200000\n",
      "loaded 14300000\n",
      "loaded 14400000\n",
      "loaded 14500000\n",
      "loaded 14600000\n",
      "loaded 14700000\n",
      "loaded 14800000\n",
      "loaded 14900000\n",
      "loaded 15000000\n",
      "loaded 15100000\n",
      "loaded 15200000\n",
      "loaded 15300000\n",
      "loaded 15400000\n",
      "loaded 15500000\n",
      "loaded 15600000\n",
      "loaded 15700000\n",
      "loaded 15800000\n",
      "loaded 15900000\n",
      "loaded 16000000\n",
      "loaded 16100000\n",
      "loaded 16200000\n",
      "loaded 16300000\n",
      "loaded 16400000\n",
      "loaded 16500000\n",
      "loaded 16600000\n",
      "loaded 16700000\n",
      "loaded 16800000\n",
      "loaded 16900000\n",
      "loaded 17000000\n",
      "loaded 17100000\n",
      "loaded 17200000\n",
      "loaded 17300000\n",
      "loaded 17400000\n",
      "loaded 17500000\n",
      "loaded 17600000\n",
      "loaded 17700000\n",
      "loaded 17800000\n",
      "loaded 17900000\n",
      "loaded 18000000\n",
      "loaded 18100000\n",
      "loaded 18200000\n",
      "loaded 18300000\n",
      "loaded 18400000\n",
      "loaded 18500000\n",
      "loaded 18600000\n",
      "loaded 18700000\n",
      "loaded 18800000\n",
      "loaded 18900000\n",
      "loaded 19000000\n",
      "loaded 19100000\n",
      "loaded 19200000\n",
      "loaded 19300000\n",
      "loaded 19400000\n",
      "loaded 19500000\n",
      "loaded 19600000\n",
      "loaded 19700000\n",
      "loaded 19800000\n",
      "loaded 19900000\n",
      "loaded 20000000\n",
      "loaded 20100000\n",
      "loaded 20200000\n",
      "loaded 20300000\n",
      "loaded 20400000\n",
      "loaded 20500000\n",
      "loaded 20600000\n",
      "loaded 20700000\n",
      "loaded 20800000\n",
      "loaded 20900000\n",
      "loaded 21000000\n",
      "loaded 21100000\n",
      "loaded 21200000\n",
      "loaded 21300000\n",
      "loaded 21400000\n",
      "loaded 21500000\n",
      "loaded 21600000\n",
      "loaded 21700000\n",
      "loaded 21800000\n",
      "loaded 21900000\n",
      "loaded 22000000\n",
      "loaded 22100000\n",
      "loaded 22200000\n",
      "loaded 22300000\n",
      "loaded 22400000\n",
      "loaded 22500000\n",
      "loaded 22600000\n",
      "loaded 22700000\n",
      "loaded 22800000\n",
      "loaded 22900000\n",
      "loaded 23000000\n",
      "loaded 23100000\n",
      "loaded 23200000\n",
      "loaded 23300000\n",
      "loaded 23400000\n",
      "loaded 23500000\n",
      "loaded 23600000\n",
      "loaded 23700000\n",
      "loaded 23800000\n",
      "loaded 23900000\n",
      "loaded 24000000\n",
      "loaded 24100000\n",
      "loaded 24200000\n",
      "loaded 24300000\n",
      "loaded 24400000\n",
      "loaded 24500000\n",
      "loaded 24600000\n",
      "loaded 24700000\n",
      "loaded 24800000\n",
      "loaded 24900000\n",
      "loaded 25000000\n",
      "loaded 25100000\n",
      "loaded 25200000\n",
      "loaded 25300000\n",
      "loaded 25400000\n",
      "loaded 25500000\n",
      "loaded 25600000\n",
      "loaded 25700000\n",
      "loaded 25800000\n",
      "loaded 25900000\n",
      "loaded 26000000\n",
      "loaded 26100000\n",
      "loaded 26200000\n",
      "loaded 26300000\n",
      "loaded 26400000\n",
      "loaded 26500000\n",
      "loaded 26600000\n",
      "loaded 26700000\n",
      "loaded 26800000\n",
      "loaded 26900000\n",
      "loaded 27000000\n",
      "loaded 27100000\n",
      "loaded 27200000\n",
      "loaded 27300000\n",
      "loaded 27400000\n",
      "loaded 27500000\n",
      "loaded 27600000\n",
      "loaded 27700000\n",
      "loaded 27800000\n",
      "loaded 27900000\n",
      "loaded 28000000\n",
      "loaded 28100000\n",
      "loaded 28200000\n",
      "loaded 28300000\n",
      "loaded 28400000\n",
      "loaded 28500000\n",
      "loaded 28600000\n",
      "loaded 28700000\n",
      "loaded 28800000\n",
      "loaded 28900000\n",
      "loaded 29000000\n",
      "loaded 29100000\n",
      "loaded 29200000\n",
      "loaded 29300000\n",
      "loaded 29400000\n",
      "loaded 29500000\n",
      "loaded 29600000\n",
      "loaded 29700000\n",
      "loaded 29800000\n",
      "loaded 29900000\n",
      "loaded 30000000\n",
      "loaded 30100000\n",
      "loaded 30200000\n",
      "loaded 30300000\n",
      "loaded 30400000\n",
      "loaded 30500000\n",
      "loaded 30600000\n",
      "loaded 30700000\n",
      "loaded 30800000\n",
      "loaded 30900000\n",
      "loaded 31000000\n",
      "loaded 31100000\n",
      "loaded 31200000\n",
      "loaded 31300000\n",
      "loaded 31400000\n",
      "loaded 31500000\n",
      "loaded 31600000\n",
      "loaded 31700000\n",
      "loaded 31800000\n",
      "loaded 31900000\n",
      "loaded 32000000\n",
      "loaded 32100000\n",
      "loaded 32200000\n",
      "loaded 32300000\n",
      "loaded 32400000\n",
      "loaded 32500000\n",
      "loaded 32600000\n",
      "loaded 32700000\n",
      "loaded 32800000\n",
      "loaded 32900000\n",
      "loaded 33000000\n",
      "loaded 33100000\n",
      "loaded 33200000\n",
      "loaded 33300000\n",
      "loaded 33400000\n",
      "loaded 33500000\n",
      "loaded 33600000\n",
      "loaded 33700000\n",
      "loaded 33800000\n",
      "loaded 33900000\n",
      "loaded 34000000\n",
      "loaded 34100000\n",
      "loaded 34200000\n",
      "loaded 34300000\n",
      "loaded 34400000\n",
      "loaded 34500000\n",
      "loaded 34600000\n",
      "loaded 34700000\n",
      "loaded 34800000\n",
      "loaded 34900000\n",
      "loaded 35000000\n",
      "loaded 35100000\n",
      "loaded 35200000\n",
      "loaded 35300000\n",
      "loaded 35400000\n",
      "loaded 35500000\n",
      "loaded 35600000\n",
      "loaded 35700000\n",
      "loaded 35800000\n",
      "loaded 35900000\n",
      "loaded 36000000\n",
      "loaded 36100000\n",
      "loaded 36200000\n",
      "loaded 36300000\n",
      "loaded 36400000\n",
      "loaded 36500000\n",
      "loaded 36600000\n",
      "loaded 36700000\n",
      "loaded 36800000\n",
      "loaded 36900000\n",
      "loaded 37000000\n",
      "loaded 37100000\n",
      "loaded 37200000\n",
      "loaded 37300000\n",
      "loaded 37400000\n",
      "loaded 37500000\n",
      "loaded 37600000\n",
      "loaded 37700000\n",
      "loaded 37800000\n",
      "loaded 37900000\n",
      "loaded 38000000\n",
      "loaded 38100000\n",
      "loaded 38200000\n",
      "loaded 38300000\n",
      "loaded 38400000\n",
      "loaded 38500000\n",
      "loaded 38600000\n",
      "loaded 38700000\n",
      "loaded 38800000\n",
      "loaded 38900000\n",
      "loaded 39000000\n",
      "loaded 39100000\n",
      "loaded 39200000\n",
      "loaded 39300000\n",
      "loaded 39400000\n",
      "loaded 39500000\n",
      "loaded 39600000\n",
      "loaded 39700000\n",
      "loaded 39800000\n",
      "loaded 39900000\n",
      "loaded 40000000\n",
      "loaded 40100000\n",
      "loaded 40200000\n",
      "loaded 40300000\n",
      "loaded 40400000\n"
     ]
    }
   ],
   "source": [
    "setup = True #safety to avoid overwriting database all the time\n",
    "if (not setup):\n",
    "    with open('/home/usr1/bghaem/mu/proj/dlrm/support/data/avazu_train.csv', 'r') as f:\n",
    "\n",
    "        print(\"resetting data table...\")\n",
    "\n",
    "        c.execute('''DELETE FROM data''')\n",
    "        conn.commit()\n",
    "\n",
    "        labels = f.readline().split(',')\n",
    "        table_types = [lab + \" integer\" for lab in labels]\n",
    "        print(table_types)\n",
    "\n",
    "        print(f.readline())\n",
    "\n",
    "        buffer = []\n",
    "        counter = 1\n",
    "        for line in f:\n",
    "            items = line.split(',')\n",
    "            conv_items = []\n",
    "            for i, v in enumerate(items):\n",
    "                if i >=0 and i < 5:\n",
    "                    conv_items.append(v)\n",
    "                elif i > 13:\n",
    "                    conv_items.append(int(v))\n",
    "                else:\n",
    "                    conv_items.append(v)\n",
    "\n",
    "            if len(conv_items) == 23:\n",
    "                conv_items.insert(1,\"1\")\n",
    "\n",
    "            if (len(buffer) < 100000):\n",
    "                buffer.append(conv_items)\n",
    "            else:\n",
    "                print(\"loaded \" + str(counter * 100000))\n",
    "                counter = counter + 1\n",
    "                c.executemany('INSERT INTO data VALUES (?,?,?,?,?,?,?,?,?,?,?,?,?,?,?,?,?,?,?,?,?,?,?,?)', buffer)\n",
    "                buffer = []\n",
    "        \n",
    "        conn.commit()"
   ]
  },
  {
   "cell_type": "code",
   "execution_count": 98,
   "metadata": {
    "ExecuteTime": {
     "end_time": "2019-10-14T02:15:02.708366Z",
     "start_time": "2019-10-14T02:11:49.688020Z"
    }
   },
   "outputs": [
    {
     "name": "stdout",
     "output_type": "stream",
     "text": [
      "processing C1\n",
      "processing banner_pos\n",
      "processing site_id\n",
      "processing site_domain.\n",
      "processing site_category\n",
      "processing app_id.\n",
      "processing app_domain\n",
      "processing app_category\n",
      "processing device_id....................................................................................................................................................................................................................................................................................................................................................................................................................................................................................................................................................\n",
      "processing device_ip.....................................................................................................................................................................................................................................................................................................................................................................................................................................................................................................................................................................................................................................................................................................................................................................................................................................................................................................................................................................................................................................................................................................................................................................................................................................................................................................................................................................................\n",
      "processing device_model.\n",
      "processing device_type\n",
      "processing device_conn_type\n",
      "processing C14\n",
      "processing C15\n",
      "processing C16\n",
      "processing C17\n",
      "processing C18\n",
      "processing C19\n",
      "processing C20\n",
      "processing C21\n"
     ]
    }
   ],
   "source": [
    "cs = \"\"\"C1 integer,\n",
    "banner_pos integer,\n",
    "site_id integer,\n",
    "site_domain integer,\n",
    "site_category integer,\n",
    "app_id integer,\n",
    "app_domain integer,\n",
    "app_category integer,\n",
    "device_id integer,\n",
    "device_ip integer,\n",
    "device_model integer,\n",
    "device_type integer,\n",
    "device_conn_type integer,\n",
    "C14 integer,\n",
    "C15 integer,\n",
    "C16 integer,\n",
    "C17 integer,\n",
    "C18 integer,\n",
    "C19 integer,\n",
    "C20 integer,\n",
    "C21 integer\"\"\"\n",
    "cat_dicts = {}\n",
    "for line in cs.split(\"\\n\"):\n",
    "    cc, i = line.split(\" \") \n",
    "    uniq_cid = c.execute(f\"SELECT DISTINCT {cc} FROM data\")\n",
    "    cat_dicts[cc]={}\n",
    "    cat_dicts[cc][-1] = 0\n",
    "    counter = 1\n",
    "    print(\"processing\", cc,end='')\n",
    "    for item in uniq_cid:\n",
    "        if (item != -1):\n",
    "            cat_dicts[cc][item] = counter\n",
    "            counter = counter + 1\n",
    "            if (counter % 5000 == 0):\n",
    "                print(\".\",end='')\n",
    "    print(\"\")"
   ]
  },
  {
   "cell_type": "code",
   "execution_count": 99,
   "metadata": {
    "ExecuteTime": {
     "end_time": "2019-10-14T02:24:59.252639Z",
     "start_time": "2019-10-14T02:15:02.709602Z"
    }
   },
   "outputs": [
    {
     "name": "stdout",
     "output_type": "stream",
     "text": [
      "resetting cleaned data table...\n",
      "cleaned 1000000 0\n",
      "cleaned 1000000 1000000\n",
      "cleaned 1000000 2000000\n",
      "cleaned 1000000 3000000\n",
      "cleaned 1000000 4000000\n",
      "cleaned 1000000 5000000\n",
      "cleaned 1000000 6000000\n",
      "cleaned 1000000 7000000\n",
      "cleaned 1000000 8000000\n",
      "cleaned 1000000 9000000\n",
      "cleaned 1000000 10000000\n",
      "cleaned 1000000 11000000\n",
      "cleaned 1000000 12000000\n",
      "cleaned 1000000 13000000\n",
      "cleaned 1000000 14000000\n",
      "cleaned 1000000 15000000\n",
      "cleaned 1000000 16000000\n",
      "cleaned 1000000 17000000\n",
      "cleaned 1000000 18000000\n",
      "cleaned 1000000 19000000\n",
      "cleaned 1000000 20000000\n",
      "cleaned 1000000 21000000\n",
      "cleaned 1000000 22000000\n",
      "cleaned 1000000 23000000\n",
      "cleaned 1000000 24000000\n",
      "cleaned 1000000 25000000\n",
      "cleaned 1000000 26000000\n",
      "cleaned 1000000 27000000\n",
      "cleaned 1000000 28000000\n",
      "cleaned 1000000 29000000\n",
      "cleaned 1000000 30000000\n",
      "cleaned 1000000 31000000\n",
      "cleaned 1000000 32000000\n",
      "cleaned 1000000 33000000\n",
      "cleaned 1000000 34000000\n",
      "cleaned 1000000 35000000\n",
      "cleaned 1000000 36000000\n",
      "cleaned 1000000 37000000\n",
      "cleaned 1000000 38000000\n",
      "cleaned 1000000 39000000\n",
      "cleaned 400000 40000000\n",
      "cleaned 0 41000000\n"
     ]
    }
   ],
   "source": [
    "uniq_convert_setup = False\n",
    "if (not uniq_convert_setup):\n",
    "\n",
    "        print(\"resetting cleaned data table...\")\n",
    "\n",
    "        c.execute('''DELETE FROM data_cleaned''')\n",
    "        conn.commit()\n",
    "\n",
    "        col_names = ['C1',\n",
    "                     'banner_pos',\n",
    "                     'site_id',\n",
    "                     'site_domain',\n",
    "                     'site_category',\n",
    "                     'app_id',\n",
    "                     'app_domain',\n",
    "                     'app_category',\n",
    "                     'device_id',\n",
    "                     'device_ip',\n",
    "                     'device_model',\n",
    "                     'device_type',\n",
    "                     'device_conn_type',\n",
    "                     'C14',\n",
    "                     'C15',\n",
    "                     'C16',\n",
    "                     'C17',\n",
    "                     'C18',\n",
    "                     'C19',\n",
    "                     'C20',\n",
    "                     'C21']\n",
    "       \n",
    "      \n",
    "        off = 0\n",
    "        batch_size = 1000000\n",
    "        while (off < 50000000):\n",
    "            sel_rows = c.execute(f\"SELECT * FROM data LIMIT {batch_size} OFFSET {off}\")\n",
    "            buffer = []\n",
    "            for rr, row in enumerate(sel_rows):\n",
    "                tmp_row = []\n",
    "                for ii, item in enumerate(row):\n",
    "                    if ii < 2: #id, click, hour -- do nothing\n",
    "                        tmp_row.append(item)\n",
    "                    elif ii == 2:\n",
    "                        tmp_row.append(math.log(datetime.datetime.utcfromtimestamp(item).hour + 1))\n",
    "                    else:\n",
    "                        if item == -1:\n",
    "                            tmp_row.append(0)\n",
    "                        else:\n",
    "                            tmp_row.append(cat_dicts[col_names[ii-3]][(item,)])\n",
    "\n",
    "                buffer.append(tmp_row)\n",
    "               \n",
    "            print(\"cleaned \" + str(len(buffer)), off)\n",
    "            if (len(buffer) == 0):\n",
    "                #break out early if we have overshot\n",
    "                break\n",
    "            c.executemany('INSERT INTO data_cleaned VALUES (?,?,?,?,?,?,?,?,?,?,?,?,?,?,?,?,?,?,?,?,?,?,?,?)', buffer)\n",
    "            buffer = []\n",
    "            off = off + batch_size\n",
    "        \n",
    "        conn.commit()"
   ]
  },
  {
   "cell_type": "code",
   "execution_count": 5,
   "metadata": {
    "ExecuteTime": {
     "end_time": "2019-10-14T17:03:32.627688Z",
     "start_time": "2019-10-14T17:03:32.618256Z"
    }
   },
   "outputs": [
    {
     "data": {
      "text/plain": [
       "[(8,),\n",
       " (8,),\n",
       " (4698,),\n",
       " (7672,),\n",
       " (27,),\n",
       " (8473,),\n",
       " (554,),\n",
       " (37,),\n",
       " (2662436,),\n",
       " (6668832,),\n",
       " (8186,),\n",
       " (6,),\n",
       " (5,),\n",
       " (2626,),\n",
       " (9,),\n",
       " (10,),\n",
       " (436,),\n",
       " (5,),\n",
       " (69,),\n",
       " (173,),\n",
       " (61,)]"
      ]
     },
     "execution_count": 5,
     "metadata": {},
     "output_type": "execute_result"
    }
   ],
   "source": [
    "#counts = [(m[0],len(m[1].keys())) for m in cat_dicts.items()]\n",
    "counts_setup = True\n",
    "\n",
    "if (not counts_setup):\n",
    "   \n",
    "    print(\"resetting col_counts table\")\n",
    "        \n",
    "    c.execute('''DELETE FROM col_counts''')\n",
    "    conn.commit()\n",
    "    \n",
    "    for col_name, val in counts:\n",
    "        print(f\"set {col_name}:{val}\")\n",
    "        c.execute('''INSERT INTO col_counts VALUES (?,?)''',[col_name,val])\n",
    "        \n",
    "    conn.commit()\n",
    "\n",
    "list(c.execute('''SELECT count FROM col_counts'''))"
   ]
  },
  {
   "cell_type": "code",
   "execution_count": 27,
   "metadata": {
    "ExecuteTime": {
     "end_time": "2019-10-14T20:38:15.354603Z",
     "start_time": "2019-10-14T20:38:15.350865Z"
    }
   },
   "outputs": [],
   "source": [
    "conn.commit()\n",
    "conn.close()"
   ]
  },
  {
   "cell_type": "code",
   "execution_count": 49,
   "metadata": {
    "ExecuteTime": {
     "end_time": "2019-10-10T17:13:56.058623Z",
     "start_time": "2019-10-10T17:13:55.742805Z"
    }
   },
   "outputs": [
    {
     "data": {
      "text/plain": [
       "40400000"
      ]
     },
     "execution_count": 49,
     "metadata": {},
     "output_type": "execute_result"
    }
   ],
   "source": [
    "c.execute(\"SELECT COUNT(*) FROM data_cleaned\").fetchone()[0]"
   ]
  },
  {
   "cell_type": "code",
   "execution_count": 52,
   "metadata": {
    "ExecuteTime": {
     "end_time": "2019-10-10T17:14:31.572736Z",
     "start_time": "2019-10-10T17:14:31.560615Z"
    }
   },
   "outputs": [
    {
     "data": {
      "text/plain": [
       "(7068516175296651002,\n",
       " 0,\n",
       " 1.791759469228055,\n",
       " 1,\n",
       " 2,\n",
       " 35,\n",
       " 32,\n",
       " 3,\n",
       " 1,\n",
       " 1,\n",
       " 1,\n",
       " 1,\n",
       " 101212,\n",
       " 48,\n",
       " 1,\n",
       " 1,\n",
       " 953,\n",
       " 1,\n",
       " 1,\n",
       " 207,\n",
       " 1,\n",
       " 1,\n",
       " 23,\n",
       " 38)"
      ]
     },
     "execution_count": 52,
     "metadata": {},
     "output_type": "execute_result"
    }
   ],
   "source": [
    "c.execute(\"SELECT * FROM data_cleaned where rowid = 10200000\").fetchone()"
   ]
  },
  {
   "cell_type": "code",
   "execution_count": 117,
   "metadata": {
    "ExecuteTime": {
     "end_time": "2019-10-09T20:39:09.281472Z",
     "start_time": "2019-10-09T20:39:09.275175Z"
    }
   },
   "outputs": [
    {
     "name": "stdout",
     "output_type": "stream",
     "text": [
      "?,?,?,?,?,?,?,?,?,?,?,?,?,?,?,?,?,?,?,?,?,?,?,?,?,?,?,?,?,?,?,?,?,?,?,?,?,?,?,?,?,?,?,?,?,?,?,?,?,?,?,?,?,?,?,?,?,?,?,?,?,?,?,?,?,?,?,?,?,?,?,?,?,?,?,?,?,?,?,?,?,?,?,?,?,?,?,?,?,?,?,?,?,?,?,?,?,?,?,?,?,?,?,?,?,?,?,?,?,?,?,?,?,?,?,?,?,?,?,?,?,?,?,?,?,?,?,?,?,?,?,?,?,?,?,?,?,?,?,?,?,?,?,?,?,?,?,?,?,?,?,?,?,?,?,?,?,?,?,?,?,?,?,?,?,?,?,?,?,?,?,?,?,?,?,?,?,?,?,?,?,?,?,?,?,?,?,?,?,?,?,?,\n"
     ]
    },
    {
     "data": {
      "text/plain": [
       "1"
      ]
     },
     "execution_count": 117,
     "metadata": {},
     "output_type": "execute_result"
    }
   ],
   "source": [
    "\n",
    "for i in range(24):\n",
    "    o = o +\"?,\"\n",
    "print(o)\n",
    "\n",
    "cat_dicts[col_names[0]][(1005,)]"
   ]
  },
  {
   "cell_type": "code",
   "execution_count": 105,
   "metadata": {
    "ExecuteTime": {
     "end_time": "2019-10-09T20:22:04.975197Z",
     "start_time": "2019-10-09T20:22:04.969464Z"
    }
   },
   "outputs": [
    {
     "data": {
      "text/plain": [
       "2662436"
      ]
     },
     "execution_count": 105,
     "metadata": {},
     "output_type": "execute_result"
    }
   ],
   "source": [
    "len(cat_dicts[\"device_id\"])"
   ]
  },
  {
   "cell_type": "code",
   "execution_count": 63,
   "metadata": {
    "ExecuteTime": {
     "end_time": "2019-10-09T19:59:37.510273Z",
     "start_time": "2019-10-09T19:58:34.923081Z"
    }
   },
   "outputs": [
    {
     "name": "stdout",
     "output_type": "stream",
     "text": [
      "6668831\n"
     ]
    }
   ],
   "source": [
    "cc = \"device_ip\"\n",
    "uniq_cid = c.execute(f\"SELECT DISTINCT {cc} FROM data\")\n",
    "m = {}\n",
    "counter = 1\n",
    "for item in uniq_cid:\n",
    "    m[item] = counter\n",
    "    counter = counter + 1\n",
    "print(len(m))"
   ]
  },
  {
   "cell_type": "code",
   "execution_count": 76,
   "metadata": {
    "ExecuteTime": {
     "end_time": "2019-10-09T20:04:33.921896Z",
     "start_time": "2019-10-09T20:04:33.913165Z"
    }
   },
   "outputs": [
    {
     "data": {
      "text/plain": [
       "1.000037190421512e+19"
      ]
     },
     "execution_count": 76,
     "metadata": {},
     "output_type": "execute_result"
    }
   ],
   "source": [
    "1.000037190421512e+19"
   ]
  },
  {
   "cell_type": "code",
   "execution_count": 37,
   "metadata": {
    "ExecuteTime": {
     "end_time": "2019-10-10T16:58:42.968600Z",
     "start_time": "2019-10-10T16:58:42.966877Z"
    }
   },
   "outputs": [],
   "source": [
    "import datetime\n",
    "import math"
   ]
  },
  {
   "cell_type": "code",
   "execution_count": 44,
   "metadata": {
    "ExecuteTime": {
     "end_time": "2019-10-10T16:59:07.443539Z",
     "start_time": "2019-10-10T16:59:07.440793Z"
    }
   },
   "outputs": [
    {
     "data": {
      "text/plain": [
       "1.6094379124341003"
      ]
     },
     "execution_count": 44,
     "metadata": {},
     "output_type": "execute_result"
    }
   ],
   "source": [
    "math.log(4 + 1)"
   ]
  },
  {
   "cell_type": "code",
   "execution_count": 77,
   "metadata": {
    "ExecuteTime": {
     "end_time": "2019-10-10T22:19:28.925324Z",
     "start_time": "2019-10-10T22:19:28.923325Z"
    }
   },
   "outputs": [],
   "source": [
    "c.close()"
   ]
  },
  {
   "cell_type": "code",
   "execution_count": 78,
   "metadata": {
    "ExecuteTime": {
     "end_time": "2019-10-10T23:34:58.700217Z",
     "start_time": "2019-10-10T23:34:58.697988Z"
    }
   },
   "outputs": [],
   "source": [
    "conn.close()"
   ]
  },
  {
   "cell_type": "code",
   "execution_count": 26,
   "metadata": {
    "ExecuteTime": {
     "end_time": "2019-10-14T17:08:42.303510Z",
     "start_time": "2019-10-14T17:08:42.298587Z"
    }
   },
   "outputs": [
    {
     "data": {
      "text/plain": [
       "[(8,),\n",
       " (8,),\n",
       " (4698,),\n",
       " (7672,),\n",
       " (27,),\n",
       " (8473,),\n",
       " (554,),\n",
       " (37,),\n",
       " (2662436,),\n",
       " (6668832,),\n",
       " (8186,),\n",
       " (6,),\n",
       " (5,),\n",
       " (2626,),\n",
       " (9,),\n",
       " (10,),\n",
       " (436,),\n",
       " (5,),\n",
       " (69,),\n",
       " (173,),\n",
       " (61,)]"
      ]
     },
     "execution_count": 26,
     "metadata": {},
     "output_type": "execute_result"
    }
   ],
   "source": [
    "cc = list(c.execute('''SELECT count FROM col_counts'''))\n",
    "cc"
   ]
  },
  {
   "cell_type": "code",
   "execution_count": 25,
   "metadata": {
    "ExecuteTime": {
     "end_time": "2019-10-14T17:08:24.041402Z",
     "start_time": "2019-10-14T17:08:24.037740Z"
    }
   },
   "outputs": [
    {
     "data": {
      "text/plain": [
       "[11, 3, 5, 0, 0, 2, 0, 0]"
      ]
     },
     "execution_count": 25,
     "metadata": {},
     "output_type": "execute_result"
    }
   ],
   "source": [
    "#100,1000,10000\n",
    "log_bins = [0,0,0,0,0,0,0,0]\n",
    "for v in cc:\n",
    "    idx = math.ceil(max(math.log10(v[0]) - 2,0))\n",
    "    log_bins[idx] = log_bins[idx] + 1\n",
    "    \n",
    "log_bins"
   ]
  },
  {
   "cell_type": "code",
   "execution_count": 22,
   "metadata": {
    "ExecuteTime": {
     "end_time": "2019-10-14T17:07:49.345493Z",
     "start_time": "2019-10-14T17:07:49.342523Z"
    }
   },
   "outputs": [
    {
     "data": {
      "text/plain": [
       "2"
      ]
     },
     "execution_count": 22,
     "metadata": {},
     "output_type": "execute_result"
    }
   ],
   "source": []
  },
  {
   "cell_type": "code",
   "execution_count": null,
   "metadata": {},
   "outputs": [],
   "source": []
  }
 ],
 "metadata": {
  "kernelspec": {
   "display_name": "Python 3",
   "language": "python",
   "name": "python3"
  },
  "language_info": {
   "codemirror_mode": {
    "name": "ipython",
    "version": 3
   },
   "file_extension": ".py",
   "mimetype": "text/x-python",
   "name": "python",
   "nbconvert_exporter": "python",
   "pygments_lexer": "ipython3",
   "version": "3.7.4"
  }
 },
 "nbformat": 4,
 "nbformat_minor": 2
}
